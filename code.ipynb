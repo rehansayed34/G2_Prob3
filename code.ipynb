{
 "cells": [
  {
   "cell_type": "code",
<<<<<<< HEAD
   "execution_count": 2,
=======
   "execution_count": null,
   "metadata": {},
   "outputs": [],
   "source": []
  },
  {
   "cell_type": "code",
   "execution_count": 1,
>>>>>>> 687f853d60f1a5bd93a16da719b6c7db951c9fba
   "metadata": {},
   "outputs": [
    {
     "name": "stdout",
     "output_type": "stream",
     "text": [
<<<<<<< HEAD
      "h1:\n",
      "Supercharge your Recruiting Comms\n",
      "\n",
      "h2:\n",
      "Empower your Recruiting & Hiring Teams\n",
      "Pre-Application vs. Post Application Comms\n",
      "Key Benefits\n",
      "Key Features\n",
      "Integrate with your internal systems via API\n",
      "Harness the right technology\n",
      "Who We Serve\n",
      "Chat & Recruit Better Talent\n",
      "ChatRecruit™ Product Demo Paywall Form\n",
      "\n",
      "p:\n",
      "The Leading Post Application Chat Management Platform\n",
      "Simple. Intuitive. Compliant\n",
      "Chat Technologies empowers internal & external multi-functional teams by providing a dynamic platform that facilitates seamless collaboration and heightened efficiency. Think of our powerful chat recruiting software as your friendly comms co-pilot.  Enjoy transparency associated with recruiters and hiring managers' interactions with candidates. Enable direct communication lines to mitigate the risk of negative candidate experiences and protect your employer brand from potential harm.\n",
      "Pre-application text communication tools are designed to attract candidates to apply for a position. Our intuitive chat software is designed to help optimize the post application process. Chat Technologies seamlessly bridges the comms gap enhancing collaboration from the initial application stage to the onboarding phase. Chat via a secure and unified platform, seamlessly linking all recruitment-related conversations to candidate profiles.‍\n",
      "The future of work calls for leaders who thrive on change, champion diversity, and use new technology as a tool for innovation. Chat Technologies stands out as the pinnacle of advanced collaboration platforms tailored for recruiting excellence.\n",
      "Eliminate silo’ed systems and broken processes. Effortlessly streamline communication flows throughout your organization.\n",
      "Chat Technologies seamlessly integrates with leading ATS’ / Recruiting CRM’s / VMS’Bridge communication gaps between multiple systems using our intuitive platform. Enable seamless and secure communication with external parties while safeguarding critical company information stored in your platforms.\n",
      "Reduce the risk of losing the best Talent to your competitors. According to PWC in a recent article, Talent risk is amongst the greatest risk next to cybersecurity.\n",
      "Chat Technologies specializes in providing tailored communication solutions designed specifically for complex brands, addressing the diverse needs of both full-time and contingent workforces. ‍Employers / Staffing Agencies / RPO’s‍\n",
      "ChatRecruit™ capabilities offer more effective communications through chat collaboration, enhancing recruitment velocity, user transparency and overall customer experience across internal & external, multi-functional teams.\n",
      "Unlock ChatRecruit™ Demo & Watch Now!\n",
      "\n",
      "li:\n",
      "\n"
=======
      "Requirement already satisfied: beautifulsoup4 in c:\\users\\furta\\anaconda3\\lib\\site-packages (4.11.1)\n",
      "Requirement already satisfied: soupsieve>1.2 in c:\\users\\furta\\anaconda3\\lib\\site-packages (from beautifulsoup4) (2.3.1)\n"
     ]
    }
   ],
   "source": [
    "#ashlin\n",
    "!pip install beautifulsoup4\n"
   ]
  },
  {
   "cell_type": "code",
   "execution_count": 3,
   "metadata": {},
   "outputs": [
    {
     "name": "stdout",
     "output_type": "stream",
     "text": [
      "Failed to retrieve the webpage\n"
>>>>>>> 687f853d60f1a5bd93a16da719b6c7db951c9fba
     ]
    }
   ],
   "source": [
    "from bs4 import BeautifulSoup\n",
    "import requests\n",
    "\n",
    "# Replace 'url' with the URL of the webpage you want to scrape\n",
<<<<<<< HEAD
    "url = 'https://www.chattechnologies.com/'\n",
=======
    "url = 'https://inita.com'\n",
>>>>>>> 687f853d60f1a5bd93a16da719b6c7db951c9fba
    "response = requests.get(url)\n",
    "\n",
    "\n",
    "if response.status_code == 200:\n",
    "    soup = BeautifulSoup(response.content, 'html.parser')\n",
    "    \n",
    "    # Initialize an empty dictionary to store the extracted text\n",
    "    extracted_text = {\n",
    "        'h1': [],\n",
    "        'h2': [],\n",
    "        'p': [],\n",
    "        'li': []\n",
    "    }\n",
    "    \n",
    "    # Find all <h1> tags and store their text in the dictionary\n",
    "    h1_tags = soup.find_all('h1')\n",
    "    for h1_tag in h1_tags:\n",
    "        extracted_text['h1'].append(h1_tag.text.strip())\n",
    "    \n",
    "    # Find all <h2> tags and store their text in the dictionary\n",
    "    h2_tags = soup.find_all('h2')\n",
    "    for h2_tag in h2_tags:\n",
    "        extracted_text['h2'].append(h2_tag.text.strip())\n",
    "    \n",
    "    # Find all <p> tags and store their text in the dictionary\n",
    "    p_tags = soup.find_all('p')\n",
    "    for p_tag in p_tags:\n",
    "        extracted_text['p'].append(p_tag.text.strip())\n",
    "    \n",
    "    # Find all <ul> and <ol> tags\n",
    "    list_tags = soup.find_all(['ul', 'ol'])\n",
    "    for list_tag in list_tags:\n",
    "        # Find all <li> tags within the list and store their text in the dictionary\n",
    "        list_items = list_tag.find_all('li')\n",
    "        for list_item in list_items:\n",
    "            extracted_text['li'].append(list_item.text.strip())\n",
    "    \n",
    "    # Print the extracted text stored in the dictionary\n",
    "    for tag, text_list in extracted_text.items():\n",
    "        print(f\"{tag}:\")\n",
    "        for text in text_list:\n",
    "            print(text)\n",
    "        print()\n",
    "else:\n",
    "    print(response)\n",
    "    print(\"Failed to retrieve the webpage\")"
   ]
<<<<<<< HEAD
  },
  {
   "cell_type": "code",
   "execution_count": 2,
   "metadata": {},
   "outputs": [
    {
     "name": "stderr",
     "output_type": "stream",
     "text": [
      "C:\\Users\\rehan\\AppData\\Roaming\\Python\\Python312\\site-packages\\tqdm\\auto.py:21: TqdmWarning: IProgress not found. Please update jupyter and ipywidgets. See https://ipywidgets.readthedocs.io/en/stable/user_install.html\n",
      "  from .autonotebook import tqdm as notebook_tqdm\n"
     ]
    }
   ],
   "source": [
    "import pathlib\n",
    "import textwrap\n",
    "\n",
    "import google.generativeai as genai\n",
    "\n",
    "from IPython.display import display\n",
    "from IPython.display import Markdown\n",
    "\n",
    "\n",
    "def to_markdown(text):\n",
    "  text = text.replace('•', '  *')\n",
    "  return Markdown(textwrap.indent(text, '> ', predicate=lambda _: True))"
   ]
  },
  {
   "cell_type": "code",
   "execution_count": 3,
   "metadata": {},
   "outputs": [],
   "source": [
    "import os\n",
    "from dotenv import load_dotenv\n",
    "\n",
    "load_dotenv()\n",
    "\n",
    "GOOGLE_API_KEY = os.getenv(\"GOOGLE_API_KEY\")\n",
    "genai.configure(api_key=GOOGLE_API_KEY)"
   ]
  },
  {
   "cell_type": "code",
   "execution_count": 4,
   "metadata": {},
   "outputs": [
    {
     "name": "stdout",
     "output_type": "stream",
     "text": [
      "models/gemini-1.0-pro\n",
      "models/gemini-1.0-pro-001\n",
      "models/gemini-1.0-pro-latest\n",
      "models/gemini-1.0-pro-vision-latest\n",
      "models/gemini-pro\n",
      "models/gemini-pro-vision\n"
     ]
    }
   ],
   "source": [
    "for m in genai.list_models():\n",
    "  if 'generateContent' in m.supported_generation_methods:\n",
    "    print(m.name)"
   ]
  },
  {
   "cell_type": "code",
   "execution_count": 5,
   "metadata": {},
   "outputs": [],
   "source": [
    "model = genai.GenerativeModel('gemini-pro')"
   ]
  },
  {
   "cell_type": "code",
   "execution_count": 8,
   "metadata": {},
   "outputs": [
    {
     "name": "stdout",
     "output_type": "stream",
     "text": [
      "CPU times: total: 0 ns\n",
      "Wall time: 4.22 s\n"
     ]
    }
   ],
   "source": [
    "%%time\n",
    "response = model.generate_content('''I am giving you the data scrapped from a website that describes it's services ,the data is structured in the following way {h1:\" \" ,h2:\" \",p:\" \" ,li:\" \"} i want you to go through it can understand what exactly the product does and give a description about it. Give me a Description that you would generate if you were a marketing head working for the company. If there are contact details do provide that too.Give me a 4 line description in this format \n",
    "\"Product Name, product Description,Use cases \n",
    "h1: \n",
    "Supercharge your Recruiting Comms\n",
    "\n",
    "h2:\n",
    "Empower your Recruiting & Hiring Teams\n",
    "Pre-Application vs. Post Application Comms\n",
    "Key Benefits\n",
    "Key Features\n",
    "Integrate with your internal systems via API\n",
    "Harness the right technology\n",
    "Who We Serve\n",
    "Chat & Recruit Better Talent\n",
    "ChatRecruit™ Product Demo Paywall Form\n",
    "\n",
    "p:\n",
    "The Leading Post Application Chat Management Platform\n",
    "Simple. Intuitive. Compliant\n",
    "Chat Technologies empowers internal & external multi-functional teams by providing a dynamic platform that facilitates seamless collaboration and heightened efficiency. Think of our powerful chat recruiting software as your friendly comms co-pilot.  Enjoy transparency associated with recruiters and hiring managers' interactions with candidates. Enable direct communication lines to mitigate the risk of negative candidate experiences and protect your employer brand from potential harm.\n",
    "Pre-application text communication tools are designed to attract candidates to apply for a position. Our intuitive chat software is designed to help optimize the post application process. Chat Technologies seamlessly bridges the comms gap enhancing collaboration from the initial application stage to the onboarding phase. Chat via a secure and unified platform, seamlessly linking all recruitment-related conversations to candidate profiles.‍\n",
    "The future of work calls for leaders who thrive on change, champion diversity, and use new technology as a tool for innovation. Chat Technologies stands out as the pinnacle of advanced collaboration platforms tailored for recruiting excellence.\n",
    "Eliminate silo’ed systems and broken processes. Effortlessly streamline communication flows throughout your organization.\n",
    "Chat Technologies seamlessly integrates with leading ATS’ / Recruiting CRM’s / VMS’Bridge communication gaps between multiple systems using our intuitive platform. Enable seamless and secure communication with external parties while safeguarding critical company information stored in your platforms.\n",
    "Reduce the risk of losing the best Talent to your competitors. According to PWC in a recent article, Talent risk is amongst the greatest risk next to cybersecurity.\n",
    "Chat Technologies specializes in providing tailored communication solutions designed specifically for complex brands, addressing the diverse needs of both full-time and contingent workforces. ‍Employers / Staffing Agencies / RPO’s‍\n",
    "ChatRecruit™ capabilities offer more effective communications through chat collaboration, enhancing recruitment velocity, user transparency and overall customer experience across internal & external, multi-functional teams.\n",
    "Unlock ChatRecruit™ Demo & Watch Now!\n",
    "\n",
    "li:''')"
   ]
  },
  {
   "cell_type": "code",
   "execution_count": 9,
   "metadata": {},
   "outputs": [
    {
     "data": {
      "text/markdown": [
       "> **Product Name:** ChatRecruit™\n",
       "> \n",
       "> **Product Description:**\n",
       "> \n",
       "> ChatRecruit™ is a cutting-edge post-application chat management platform that empowers recruiting and hiring teams to streamline communication, enhance collaboration, and deliver exceptional candidate experiences.\n",
       "> \n",
       "> **Use Cases:**\n",
       "> \n",
       "> * Enhance candidate engagement and communication throughout the application process\n",
       "> * Improve hiring efficiency and reduce turnaround time\n",
       "> * Safeguard employer brand and mitigate candidate attrition\n",
       "> * Integrate seamlessly with existing ATS/CRM/VMS systems\n",
       "> \n",
       "> **Marketing Head's Description:**\n",
       "> \n",
       "> \"ChatRecruit™: The game-changer in recruiting communication. Supercharge your recruiting efforts with our intuitive platform, empowering your teams to connect seamlessly with candidates, optimize post-application processes, and elevate your employer brand. Unlock the future of recruiting today and drive your organization towards excellence.\"\n",
       "> \n",
       "> **Contact Details:**\n",
       "> \n",
       "> Website: www.chattechnologies.com\n",
       "> Email: [email protected]"
      ],
      "text/plain": [
       "<IPython.core.display.Markdown object>"
      ]
     },
     "execution_count": 9,
     "metadata": {},
     "output_type": "execute_result"
    }
   ],
   "source": [
    "to_markdown(response.text)"
   ]
=======
>>>>>>> 687f853d60f1a5bd93a16da719b6c7db951c9fba
  }
 ],
 "metadata": {
  "kernelspec": {
<<<<<<< HEAD
   "display_name": "Python 3",
=======
   "display_name": "base",
>>>>>>> 687f853d60f1a5bd93a16da719b6c7db951c9fba
   "language": "python",
   "name": "python3"
  },
  "language_info": {
   "codemirror_mode": {
    "name": "ipython",
    "version": 3
   },
   "file_extension": ".py",
   "mimetype": "text/x-python",
   "name": "python",
   "nbconvert_exporter": "python",
   "pygments_lexer": "ipython3",
<<<<<<< HEAD
   "version": "3.12.0"
=======
   "version": "3.9.12"
>>>>>>> 687f853d60f1a5bd93a16da719b6c7db951c9fba
  }
 },
 "nbformat": 4,
 "nbformat_minor": 2
}
