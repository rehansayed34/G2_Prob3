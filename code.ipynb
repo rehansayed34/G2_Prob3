{
 "cells": [
  {
   "cell_type": "code",
   "execution_count": null,
   "metadata": {},
   "outputs": [],
   "source": []
  },
  {
   "cell_type": "code",
   "execution_count": 1,
   "metadata": {},
   "outputs": [
    {
     "name": "stdout",
     "output_type": "stream",
     "text": [
      "Requirement already satisfied: beautifulsoup4 in c:\\users\\furta\\anaconda3\\lib\\site-packages (4.11.1)\n",
      "Requirement already satisfied: soupsieve>1.2 in c:\\users\\furta\\anaconda3\\lib\\site-packages (from beautifulsoup4) (2.3.1)\n"
     ]
    }
   ],
   "source": [
    "#ashlin\n",
    "!pip install beautifulsoup4\n"
   ]
  },
  {
   "cell_type": "code",
   "execution_count": 3,
   "metadata": {},
   "outputs": [
    {
     "name": "stdout",
     "output_type": "stream",
     "text": [
      "Failed to retrieve the webpage\n"
     ]
    }
   ],
   "source": [
    "from bs4 import BeautifulSoup\n",
    "import requests\n",
    "\n",
    "# Replace 'url' with the URL of the webpage you want to scrape\n",
    "url = 'https://inita.com'\n",
    "response = requests.get(url)\n",
    "\n",
    "\n",
    "if response.status_code == 200:\n",
    "    soup = BeautifulSoup(response.content, 'html.parser')\n",
    "    \n",
    "    # Initialize an empty dictionary to store the extracted text\n",
    "    extracted_text = {\n",
    "        'h1': [],\n",
    "        'h2': [],\n",
    "        'p': [],\n",
    "        'li': []\n",
    "    }\n",
    "    \n",
    "    # Find all <h1> tags and store their text in the dictionary\n",
    "    h1_tags = soup.find_all('h1')\n",
    "    for h1_tag in h1_tags:\n",
    "        extracted_text['h1'].append(h1_tag.text.strip())\n",
    "    \n",
    "    # Find all <h2> tags and store their text in the dictionary\n",
    "    h2_tags = soup.find_all('h2')\n",
    "    for h2_tag in h2_tags:\n",
    "        extracted_text['h2'].append(h2_tag.text.strip())\n",
    "    \n",
    "    # Find all <p> tags and store their text in the dictionary\n",
    "    p_tags = soup.find_all('p')\n",
    "    for p_tag in p_tags:\n",
    "        extracted_text['p'].append(p_tag.text.strip())\n",
    "    \n",
    "    # Find all <ul> and <ol> tags\n",
    "    list_tags = soup.find_all(['ul', 'ol'])\n",
    "    for list_tag in list_tags:\n",
    "        # Find all <li> tags within the list and store their text in the dictionary\n",
    "        list_items = list_tag.find_all('li')\n",
    "        for list_item in list_items:\n",
    "            extracted_text['li'].append(list_item.text.strip())\n",
    "    \n",
    "    # Print the extracted text stored in the dictionary\n",
    "    for tag, text_list in extracted_text.items():\n",
    "        print(f\"{tag}:\")\n",
    "        for text in text_list:\n",
    "            print(text)\n",
    "        print()\n",
    "else:\n",
    "    print(response)\n",
    "    print(\"Failed to retrieve the webpage\")"
   ]
  }
 ],
 "metadata": {
  "kernelspec": {
   "display_name": "base",
   "language": "python",
   "name": "python3"
  },
  "language_info": {
   "codemirror_mode": {
    "name": "ipython",
    "version": 3
   },
   "file_extension": ".py",
   "mimetype": "text/x-python",
   "name": "python",
   "nbconvert_exporter": "python",
   "pygments_lexer": "ipython3",
   "version": "3.9.12"
  }
 },
 "nbformat": 4,
 "nbformat_minor": 2
}
